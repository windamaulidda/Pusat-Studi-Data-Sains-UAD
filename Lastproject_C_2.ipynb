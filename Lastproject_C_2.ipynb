{
  "nbformat": 4,
  "nbformat_minor": 0,
  "metadata": {
    "colab": {
      "name": "Lastproject C 2.ipynb",
      "provenance": [],
      "authorship_tag": "ABX9TyMrCeIhvM/lEJSZIfUEV5yj",
      "include_colab_link": true
    },
    "kernelspec": {
      "name": "python3",
      "display_name": "Python 3"
    }
  },
  "cells": [
    {
      "cell_type": "markdown",
      "metadata": {
        "id": "view-in-github",
        "colab_type": "text"
      },
      "source": [
        "<a href=\"https://colab.research.google.com/github/windamaulidda/Pusat-Studi-Data-Sains-UAD/blob/main/Lastproject_C_2.ipynb\" target=\"_parent\"><img src=\"https://colab.research.google.com/assets/colab-badge.svg\" alt=\"Open In Colab\"/></a>"
      ]
    },
    {
      "cell_type": "code",
      "metadata": {
        "colab": {
          "base_uri": "https://localhost:8080/"
        },
        "id": "lwVRRf75VZQy",
        "outputId": "f73fda20-55a8-4c5c-d00f-830721d44f1c"
      },
      "source": [
        "import lastproject_c_1 as VolumeKubusdanLimas\r\n",
        "VolumeKubusdanLimas.volumekombinasi(2,5)\r\n"
      ],
      "execution_count": 4,
      "outputs": [
        {
          "output_type": "execute_result",
          "data": {
            "text/plain": [
              "14.666666666666666"
            ]
          },
          "metadata": {
            "tags": []
          },
          "execution_count": 4
        }
      ]
    }
  ]
}