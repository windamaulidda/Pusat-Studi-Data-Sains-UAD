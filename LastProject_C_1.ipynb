{
  "nbformat": 4,
  "nbformat_minor": 0,
  "metadata": {
    "colab": {
      "name": "LastProject C 1.ipynb",
      "provenance": [],
      "authorship_tag": "ABX9TyM2a4UFaBREbnc/5xacZ1GE",
      "include_colab_link": true
    },
    "kernelspec": {
      "name": "python3",
      "display_name": "Python 3"
    }
  },
  "cells": [
    {
      "cell_type": "markdown",
      "metadata": {
        "id": "view-in-github",
        "colab_type": "text"
      },
      "source": [
        "<a href=\"https://colab.research.google.com/github/windamaulidda/Pusat-Studi-Data-Sains-UAD/blob/main/LastProject_C_1.ipynb\" target=\"_parent\"><img src=\"https://colab.research.google.com/assets/colab-badge.svg\" alt=\"Open In Colab\"/></a>"
      ]
    },
    {
      "cell_type": "markdown",
      "metadata": {
        "id": "18td62vZ9HvV"
      },
      "source": [
        "#LAST PROJECT C "
      ]
    },
    {
      "cell_type": "markdown",
      "metadata": {
        "id": "jM2wlmQd9Yky"
      },
      "source": [
        "###VOLUME KOMBINASI KUBUS DAN LIMAS"
      ]
    },
    {
      "cell_type": "markdown",
      "metadata": {
        "id": "R3e8VS4G-3f6"
      },
      "source": [
        "Kolom 1 | Kolom 2 \r\n",
        "--------|---------\r\n",
        "Nama    | Winda Maulidda\r\n",
        "NIM     | 1800015081\r\n",
        "Semester| 5\r\n"
      ]
    },
    {
      "cell_type": "code",
      "metadata": {
        "colab": {
          "base_uri": "https://localhost:8080/"
        },
        "id": "Kcv_TJXz_CdT",
        "outputId": "47f41a3b-9980-40ec-a649-98a6cb4838eb"
      },
      "source": [
        "def volumekubus(s):\r\n",
        "    volumekubus = s*s*s\r\n",
        "    return volumekubus\r\n",
        "\r\n",
        "def volumelimas(s,t):\r\n",
        "    luasalas = s*s\r\n",
        "    volumelimas = 1/3*luasalas*t\r\n",
        "    return volumelimas\r\n",
        "\r\n",
        "def volumekombinasi(s,t):\r\n",
        "    volume1 = volumekubus(s)\r\n",
        "    volume2 = volumelimas(s,t)\r\n",
        "    volumekombinasi = volume1+volume2\r\n",
        "    return volumekombinasi\r\n",
        "\r\n",
        "s=float(input(\"masukkan nilai sisi : \"))\r\n",
        "t=float(input(\"masukkan nilai tinggi : \"))\r\n",
        "\r\n",
        "print(\"volumekombinasi\", volumekombinasi(s,t))"
      ],
      "execution_count": 6,
      "outputs": [
        {
          "output_type": "stream",
          "text": [
            "masukkan nilai sisi : 2\n",
            "masukkan nilai tinggi : 5\n",
            "volumekombinasi 14.666666666666666\n"
          ],
          "name": "stdout"
        }
      ]
    }
  ]
}